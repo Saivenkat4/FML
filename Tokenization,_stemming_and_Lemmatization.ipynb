{
  "nbformat": 4,
  "nbformat_minor": 0,
  "metadata": {
    "colab": {
      "provenance": [],
      "authorship_tag": "ABX9TyOK0BRJiwqKgq+LSb7Vx2z1",
      "include_colab_link": true
    },
    "kernelspec": {
      "name": "python3",
      "display_name": "Python 3"
    },
    "language_info": {
      "name": "python"
    }
  },
  "cells": [
    {
      "cell_type": "markdown",
      "metadata": {
        "id": "view-in-github",
        "colab_type": "text"
      },
      "source": [
        "<a href=\"https://colab.research.google.com/github/Saivenkat4/FML/blob/main/Tokenization%2C_stemming_and_Lemmatization.ipynb\" target=\"_parent\"><img src=\"https://colab.research.google.com/assets/colab-badge.svg\" alt=\"Open In Colab\"/></a>"
      ]
    },
    {
      "cell_type": "markdown",
      "source": [
        " Tokenization using Pythons split() function"
      ],
      "metadata": {
        "id": "G1ErrWGpWFgs"
      }
    },
    {
      "cell_type": "code",
      "execution_count": 1,
      "metadata": {
        "colab": {
          "base_uri": "https://localhost:8080/"
        },
        "id": "ImuYezmAReqF",
        "outputId": "22c045d9-0ff3-4198-968a-a92a63b3f31e"
      },
      "outputs": [
        {
          "output_type": "stream",
          "name": "stdout",
          "text": [
            "['In', 'Python', 'tokenization', 'basically', 'refers', 'to', 'splitting', 'up', 'a', 'larger', 'body', 'of', 'text', 'into', 'smaller', 'lines,', 'words', 'or', 'even', 'creating', 'words', 'for', 'a', 'non-English', 'language.', 'The', 'various', 'tokenization', 'functions', 'in-built', 'into', 'the', 'nltk', 'module', 'itself', 'and', 'can', 'be', 'used', 'in', 'programs', 'as', 'shown', 'below.']\n",
            "no of words :  44\n"
          ]
        }
      ],
      "source": [
        "text = '''In Python tokenization basically refers to splitting up a larger body of text into smaller lines, words or even creating words for a non-English language. The various tokenization functions in-built into the nltk module itself and can be used in programs as shown below.'''\n",
        "tokens=text.split()\n",
        "print(tokens)\n",
        "print(\"no of words : \",len(tokens))"
      ]
    },
    {
      "cell_type": "code",
      "source": [
        "text = '''In Python tokenization basically refers to splitting up a larger body of text into smaller lines, words or even creating words for a non-English language. The various tokenization functions in-built into the nltk module itself and can be used in programs as shown below.'''\n",
        "t=text.split('.')\n",
        "print(t)\n",
        "print(\"no of words : \",len(t))"
      ],
      "metadata": {
        "colab": {
          "base_uri": "https://localhost:8080/"
        },
        "id": "D4936nHqShGD",
        "outputId": "3cd206be-8634-4bfb-b435-964da0a6c016"
      },
      "execution_count": 3,
      "outputs": [
        {
          "output_type": "stream",
          "name": "stdout",
          "text": [
            "['In Python tokenization basically refers to splitting up a larger body of text into smaller lines, words or even creating words for a non-English language', ' The various tokenization functions in-built into the nltk module itself and can be used in programs as shown below']\n",
            "no of words :  2\n"
          ]
        }
      ]
    },
    {
      "cell_type": "markdown",
      "source": [
        "It is done only when there is a dot at the end of the passage.\n",
        "\n",
        "\"Here empty string also has a count.\"\n",
        "\n",
        "\n"
      ],
      "metadata": {
        "id": "-Z_XsrPKTDja"
      }
    },
    {
      "cell_type": "code",
      "source": [],
      "metadata": {
        "id": "q6dYea82TN-u"
      },
      "execution_count": null,
      "outputs": []
    },
    {
      "cell_type": "markdown",
      "source": [
        "2. Tokenization using Regular Expressions (RegEx)"
      ],
      "metadata": {
        "id": "1_C2KBZCT52V"
      }
    },
    {
      "cell_type": "code",
      "source": [
        "#The \"re\" module in Python is used for regular expression matching operations. \n",
        "import re"
      ],
      "metadata": {
        "id": "pvh-EikoVQzm"
      },
      "execution_count": 8,
      "outputs": []
    },
    {
      "cell_type": "code",
      "source": [
        "\n",
        "text = '''In Python tokenization basically refers to splitting up a larger body of text into smaller lines, words or even creating words for a non-English language. The various tokenization functions in-built into the nltk module itself and can be used in programs as shown below.'''\n",
        "tokens=re.findall(\"[/w']+\",text)\n",
        "print(tokens)\n",
        "print(len(tokens))"
      ],
      "metadata": {
        "colab": {
          "base_uri": "https://localhost:8080/"
        },
        "id": "gDNZ4jEiT66O",
        "outputId": "739c36ca-9eb4-47bc-dcc2-78d6e8633a86"
      },
      "execution_count": 13,
      "outputs": [
        {
          "output_type": "stream",
          "name": "stdout",
          "text": [
            "['w', 'w', 'w', 'w']\n",
            "4\n"
          ]
        }
      ]
    },
    {
      "cell_type": "code",
      "source": [
        "\n",
        "#sentence tokenization\n",
        "sentences = re.compile('[.?!,]').split(text)\n",
        "print(sentences)\n",
        "print(\"No.of sentences : \", len(sentences))"
      ],
      "metadata": {
        "colab": {
          "base_uri": "https://localhost:8080/"
        },
        "id": "ZlNzwX8jWTsD",
        "outputId": "c4972aad-598c-4b1a-d027-2d68d6b996c7"
      },
      "execution_count": 18,
      "outputs": [
        {
          "output_type": "stream",
          "name": "stdout",
          "text": [
            "['In Python tokenization basically refers to splitting up a larger body of text into smaller lines', ' words or even creating words for a non-English language', ' The various tokenization functions in-built into the nltk module itself and can be used in programs as shown below', '']\n",
            "No.of sentences :  4\n"
          ]
        }
      ]
    },
    {
      "cell_type": "markdown",
      "source": [
        "\n",
        "3. Tokenization using NLTK"
      ],
      "metadata": {
        "id": "e5uGnEZ9eWcZ"
      }
    },
    {
      "cell_type": "markdown",
      "source": [
        "\n",
        "The correct command to install the latest version of the Natural Language Toolkit (NLTK) using pip is:\n",
        "\"!pip install --user -U nltk\"\n",
        "[nltk=> natural language toolkit]"
      ],
      "metadata": {
        "id": "v4K3BAhwfApz"
      }
    },
    {
      "cell_type": "code",
      "source": [
        "!pip install --uesr -U nltk"
      ],
      "metadata": {
        "colab": {
          "base_uri": "https://localhost:8080/"
        },
        "id": "RDkEBZz-XETs",
        "outputId": "3f20ea18-80e8-465e-a75f-e67aa22c301c"
      },
      "execution_count": 19,
      "outputs": [
        {
          "output_type": "stream",
          "name": "stdout",
          "text": [
            "\n",
            "Usage:   \n",
            "  pip3 install [options] <requirement specifier> [package-index-options] ...\n",
            "  pip3 install [options] -r <requirements file> [package-index-options] ...\n",
            "  pip3 install [options] [-e] <vcs project url> ...\n",
            "  pip3 install [options] [-e] <local project path> ...\n",
            "  pip3 install [options] <archive url/path> ...\n",
            "\n",
            "no such option: --uesr\n"
          ]
        }
      ]
    },
    {
      "cell_type": "code",
      "source": [
        "\n",
        "import nltk\n",
        "nltk.download('punkt')"
      ],
      "metadata": {
        "colab": {
          "base_uri": "https://localhost:8080/"
        },
        "id": "FXBy4rY6fi_U",
        "outputId": "3f345aab-5f65-4616-886b-730565583cf8"
      },
      "execution_count": 20,
      "outputs": [
        {
          "output_type": "stream",
          "name": "stderr",
          "text": [
            "[nltk_data] Downloading package punkt to /root/nltk_data...\n",
            "[nltk_data]   Unzipping tokenizers/punkt.zip.\n"
          ]
        },
        {
          "output_type": "execute_result",
          "data": {
            "text/plain": [
              "True"
            ]
          },
          "metadata": {},
          "execution_count": 20
        }
      ]
    },
    {
      "cell_type": "code",
      "source": [
        "from nltk.tokenize import word_tokenize\n",
        "\n",
        "text = \"This is an example sentence to be tokenized.\"\n",
        "tokens = word_tokenize(text)\n",
        "print(tokens)\n"
      ],
      "metadata": {
        "colab": {
          "base_uri": "https://localhost:8080/"
        },
        "id": "DYeDkMJPfvfq",
        "outputId": "552c1aed-699f-459e-974b-39d39d19f37a"
      },
      "execution_count": 21,
      "outputs": [
        {
          "output_type": "stream",
          "name": "stdout",
          "text": [
            "['This', 'is', 'an', 'example', 'sentence', 'to', 'be', 'tokenized', '.']\n"
          ]
        }
      ]
    },
    {
      "cell_type": "code",
      "source": [
        "\n",
        "#word tokenization\n",
        "from nltk.tokenize import word_tokenize \n",
        "tokens = word_tokenize(text)\n",
        "print(tokens)\n",
        "print(\"No.of tokens : \", len(tokens))"
      ],
      "metadata": {
        "colab": {
          "base_uri": "https://localhost:8080/"
        },
        "id": "AFTWiO-CgEXz",
        "outputId": "18df77c9-dc81-4be0-ce62-d18442ad2a4a"
      },
      "execution_count": 22,
      "outputs": [
        {
          "output_type": "stream",
          "name": "stdout",
          "text": [
            "['This', 'is', 'an', 'example', 'sentence', 'to', 'be', 'tokenized', '.']\n",
            "No.of tokens :  9\n"
          ]
        }
      ]
    },
    {
      "cell_type": "code",
      "source": [
        "from nltk.tokenize import sent_tokenize\n",
        "sentences = sent_tokenize(text)\n",
        "print(sentences)\n",
        "print(\"No.of sentences : \", len(sentences))"
      ],
      "metadata": {
        "colab": {
          "base_uri": "https://localhost:8080/"
        },
        "id": "cljA1DlHgOrd",
        "outputId": "e1952133-a6ee-4dc5-86b2-c864a14260c1"
      },
      "execution_count": 23,
      "outputs": [
        {
          "output_type": "stream",
          "name": "stdout",
          "text": [
            "['This is an example sentence to be tokenized.']\n",
            "No.of sentences :  1\n"
          ]
        }
      ]
    },
    {
      "cell_type": "code",
      "source": [
        "\n",
        "#Stemming words\n",
        "from nltk.stem import PorterStemmer"
      ],
      "metadata": {
        "id": "1R9vPS7lgg71"
      },
      "execution_count": 24,
      "outputs": []
    },
    {
      "cell_type": "markdown",
      "source": [
        "for example : [play]\n",
        "\n",
        "so, we have plays,playing,etc."
      ],
      "metadata": {
        "id": "RvkCXz7nhYjV"
      }
    },
    {
      "cell_type": "code",
      "source": [
        "\n",
        "#create an object of class PorterStemmer\n",
        "porter = PorterStemmer()\n",
        "print(porter.stem(\"play\"))\n",
        "print(porter.stem(\"troubls\"))"
      ],
      "metadata": {
        "colab": {
          "base_uri": "https://localhost:8080/"
        },
        "id": "Nx8YNVe_hF-H",
        "outputId": "a2d4b7e6-3826-470d-8aa6-d57934d556d8"
      },
      "execution_count": 29,
      "outputs": [
        {
          "output_type": "stream",
          "name": "stdout",
          "text": [
            "player\n",
            "troubl\n"
          ]
        }
      ]
    },
    {
      "cell_type": "code",
      "source": [
        "from nltk.stem import PorterStemmer\n",
        "porter = PorterStemmer()\n",
        "\n",
        "sentence=\"Pythoners are very intelligent and work very pythonly and now they are pythoning their way to success.\"\n",
        "\n",
        "from nltk.tokenize import sent_tokenize, word_tokenize\n",
        "\n",
        "def stemSentence(sentence):\n",
        "    token_words=word_tokenize(sentence)\n",
        "    print(token_words)\n",
        "    stem_sentence=[]\n",
        "    for word in token_words:\n",
        "        stem_sentence.append(porter.stem(word))\n",
        "        stem_sentence.append(\" \")\n",
        "    return \"\".join(stem_sentence)\n",
        "\n",
        "x=stemSentence(sentence)\n",
        "print(\"Sentence after stemming :\", x)\n",
        "     "
      ],
      "metadata": {
        "colab": {
          "base_uri": "https://localhost:8080/"
        },
        "id": "WDqYOWknhXXp",
        "outputId": "9f0956d4-d99a-4e59-c8f5-67005895462e"
      },
      "execution_count": 30,
      "outputs": [
        {
          "output_type": "stream",
          "name": "stdout",
          "text": [
            "['Pythoners', 'are', 'very', 'intelligent', 'and', 'work', 'very', 'pythonly', 'and', 'now', 'they', 'are', 'pythoning', 'their', 'way', 'to', 'success', '.']\n",
            "Sentence after stemming : python are veri intellig and work veri pythonli and now they are python their way to success . \n"
          ]
        }
      ]
    },
    {
      "cell_type": "code",
      "source": [
        "\n",
        "import nltk\n",
        "nltk.download('wordnet')\n"
      ],
      "metadata": {
        "colab": {
          "base_uri": "https://localhost:8080/"
        },
        "id": "-0VVU-roiDAM",
        "outputId": "85636b3c-f9e0-42a5-cbfe-106505311027"
      },
      "execution_count": 32,
      "outputs": [
        {
          "output_type": "stream",
          "name": "stderr",
          "text": [
            "[nltk_data] Downloading package wordnet to /root/nltk_data...\n"
          ]
        },
        {
          "output_type": "execute_result",
          "data": {
            "text/plain": [
              "True"
            ]
          },
          "metadata": {},
          "execution_count": 32
        }
      ]
    },
    {
      "cell_type": "code",
      "source": [
        "import nltk\n",
        "from nltk.stem import WordNetLemmatizer\n",
        "wordnet_lemmatizer = WordNetLemmatizer()\n",
        "\n",
        "sentence = \"He was running and eating at same time. He has bad habit of swimming after playing long hours in the Sun.\"\n",
        "punctuations=\"?:!.,;\"\n",
        "token_words = nltk.word_tokenize(sentence)\n",
        "print(token_words)\n",
        "\n",
        "lemma_sentence=[]\n",
        "for word in token_words:\n",
        "  lemma_sentence.append(wordnet_lemmatizer.lemmatize(word))\n",
        "  lemma_sentence.append(\" \")\n",
        "\n",
        "print(\"lemmas of tokens: \", ''.join(lemma_sentence))\n"
      ],
      "metadata": {
        "colab": {
          "base_uri": "https://localhost:8080/"
        },
        "id": "y_Qh2rdkiBFP",
        "outputId": "58099e60-63b7-4849-a08e-859197174ebe"
      },
      "execution_count": 33,
      "outputs": [
        {
          "output_type": "stream",
          "name": "stdout",
          "text": [
            "['He', 'was', 'running', 'and', 'eating', 'at', 'same', 'time', '.', 'He', 'has', 'bad', 'habit', 'of', 'swimming', 'after', 'playing', 'long', 'hours', 'in', 'the', 'Sun', '.']\n",
            "lemmas of tokens:  He wa running and eating at same time . He ha bad habit of swimming after playing long hour in the Sun . \n"
          ]
        }
      ]
    }
  ]
}