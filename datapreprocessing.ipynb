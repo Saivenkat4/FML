{
  "nbformat": 4,
  "nbformat_minor": 0,
  "metadata": {
    "colab": {
      "provenance": [],
      "authorship_tag": "ABX9TyMqMezbkQNI60OtLzDzCzvv",
      "include_colab_link": true
    },
    "kernelspec": {
      "name": "python3",
      "display_name": "Python 3"
    },
    "language_info": {
      "name": "python"
    }
  },
  "cells": [
    {
      "cell_type": "markdown",
      "metadata": {
        "id": "view-in-github",
        "colab_type": "text"
      },
      "source": [
        "<a href=\"https://colab.research.google.com/github/Saivenkat4/FML/blob/main/datapreprocessing.ipynb\" target=\"_parent\"><img src=\"https://colab.research.google.com/assets/colab-badge.svg\" alt=\"Open In Colab\"/></a>"
      ]
    },
    {
      "cell_type": "code",
      "execution_count": null,
      "metadata": {
        "id": "r_38TrfULkJ5"
      },
      "outputs": [],
      "source": [
        "import numpy as np\n",
        "import pandas as pd\n",
        "import matplotlib.pyplot as plt\n",
        "from sklearn.linear_model import LogisticRegression\n",
        "from sklearn.preprocessing import StandardScaler"
      ]
    },
    {
      "cell_type": "code",
      "source": [
        "data=pd.read_csv('/content/tested.csv')"
      ],
      "metadata": {
        "id": "DjVwcB_xS-8x"
      },
      "execution_count": null,
      "outputs": []
    },
    {
      "cell_type": "code",
      "source": [
        "data.info()"
      ],
      "metadata": {
        "colab": {
          "base_uri": "https://localhost:8080/"
        },
        "id": "hctRmFziTJym",
        "outputId": "44a2d363-352f-47db-87ad-b189e7e062ad"
      },
      "execution_count": null,
      "outputs": [
        {
          "output_type": "stream",
          "name": "stdout",
          "text": [
            "<class 'pandas.core.frame.DataFrame'>\n",
            "RangeIndex: 418 entries, 0 to 417\n",
            "Data columns (total 12 columns):\n",
            " #   Column       Non-Null Count  Dtype  \n",
            "---  ------       --------------  -----  \n",
            " 0   PassengerId  418 non-null    int64  \n",
            " 1   Survived     418 non-null    int64  \n",
            " 2   Pclass       418 non-null    int64  \n",
            " 3   Name         418 non-null    object \n",
            " 4   Sex          418 non-null    object \n",
            " 5   Age          332 non-null    float64\n",
            " 6   SibSp        418 non-null    int64  \n",
            " 7   Parch        418 non-null    int64  \n",
            " 8   Ticket       418 non-null    object \n",
            " 9   Fare         417 non-null    float64\n",
            " 10  Cabin        91 non-null     object \n",
            " 11  Embarked     418 non-null    object \n",
            "dtypes: float64(2), int64(5), object(5)\n",
            "memory usage: 39.3+ KB\n"
          ]
        }
      ]
    },
    {
      "cell_type": "code",
      "source": [
        "data.columns"
      ],
      "metadata": {
        "colab": {
          "base_uri": "https://localhost:8080/"
        },
        "id": "sys3AHVRTuWG",
        "outputId": "8be19423-4870-4971-f029-5910e690a5bd"
      },
      "execution_count": null,
      "outputs": [
        {
          "output_type": "execute_result",
          "data": {
            "text/plain": [
              "Index(['PassengerId', 'Survived', 'Pclass', 'Name', 'Sex', 'Age', 'SibSp',\n",
              "       'Parch', 'Ticket', 'Fare', 'Cabin', 'Embarked'],\n",
              "      dtype='object')"
            ]
          },
          "metadata": {},
          "execution_count": 10
        }
      ]
    },
    {
      "cell_type": "code",
      "source": [
        "data.describe()"
      ],
      "metadata": {
        "colab": {
          "base_uri": "https://localhost:8080/",
          "height": 297
        },
        "id": "LxefT8MPTTL9",
        "outputId": "cf56bbff-152a-4bd3-a4ed-0cfacffdab2c"
      },
      "execution_count": null,
      "outputs": [
        {
          "output_type": "execute_result",
          "data": {
            "text/plain": [
              "       PassengerId    Survived      Pclass         Age       SibSp  \\\n",
              "count   418.000000  418.000000  418.000000  332.000000  418.000000   \n",
              "mean   1100.500000    0.363636    2.265550   30.272590    0.447368   \n",
              "std     120.810458    0.481622    0.841838   14.181209    0.896760   \n",
              "min     892.000000    0.000000    1.000000    0.170000    0.000000   \n",
              "25%     996.250000    0.000000    1.000000   21.000000    0.000000   \n",
              "50%    1100.500000    0.000000    3.000000   27.000000    0.000000   \n",
              "75%    1204.750000    1.000000    3.000000   39.000000    1.000000   \n",
              "max    1309.000000    1.000000    3.000000   76.000000    8.000000   \n",
              "\n",
              "            Parch        Fare  \n",
              "count  418.000000  417.000000  \n",
              "mean     0.392344   35.627188  \n",
              "std      0.981429   55.907576  \n",
              "min      0.000000    0.000000  \n",
              "25%      0.000000    7.895800  \n",
              "50%      0.000000   14.454200  \n",
              "75%      0.000000   31.500000  \n",
              "max      9.000000  512.329200  "
            ],
            "text/html": [
              "\n",
              "  <div id=\"df-95485e6e-d6f8-42d3-a51f-60fd9e45e312\">\n",
              "    <div class=\"colab-df-container\">\n",
              "      <div>\n",
              "<style scoped>\n",
              "    .dataframe tbody tr th:only-of-type {\n",
              "        vertical-align: middle;\n",
              "    }\n",
              "\n",
              "    .dataframe tbody tr th {\n",
              "        vertical-align: top;\n",
              "    }\n",
              "\n",
              "    .dataframe thead th {\n",
              "        text-align: right;\n",
              "    }\n",
              "</style>\n",
              "<table border=\"1\" class=\"dataframe\">\n",
              "  <thead>\n",
              "    <tr style=\"text-align: right;\">\n",
              "      <th></th>\n",
              "      <th>PassengerId</th>\n",
              "      <th>Survived</th>\n",
              "      <th>Pclass</th>\n",
              "      <th>Age</th>\n",
              "      <th>SibSp</th>\n",
              "      <th>Parch</th>\n",
              "      <th>Fare</th>\n",
              "    </tr>\n",
              "  </thead>\n",
              "  <tbody>\n",
              "    <tr>\n",
              "      <th>count</th>\n",
              "      <td>418.000000</td>\n",
              "      <td>418.000000</td>\n",
              "      <td>418.000000</td>\n",
              "      <td>332.000000</td>\n",
              "      <td>418.000000</td>\n",
              "      <td>418.000000</td>\n",
              "      <td>417.000000</td>\n",
              "    </tr>\n",
              "    <tr>\n",
              "      <th>mean</th>\n",
              "      <td>1100.500000</td>\n",
              "      <td>0.363636</td>\n",
              "      <td>2.265550</td>\n",
              "      <td>30.272590</td>\n",
              "      <td>0.447368</td>\n",
              "      <td>0.392344</td>\n",
              "      <td>35.627188</td>\n",
              "    </tr>\n",
              "    <tr>\n",
              "      <th>std</th>\n",
              "      <td>120.810458</td>\n",
              "      <td>0.481622</td>\n",
              "      <td>0.841838</td>\n",
              "      <td>14.181209</td>\n",
              "      <td>0.896760</td>\n",
              "      <td>0.981429</td>\n",
              "      <td>55.907576</td>\n",
              "    </tr>\n",
              "    <tr>\n",
              "      <th>min</th>\n",
              "      <td>892.000000</td>\n",
              "      <td>0.000000</td>\n",
              "      <td>1.000000</td>\n",
              "      <td>0.170000</td>\n",
              "      <td>0.000000</td>\n",
              "      <td>0.000000</td>\n",
              "      <td>0.000000</td>\n",
              "    </tr>\n",
              "    <tr>\n",
              "      <th>25%</th>\n",
              "      <td>996.250000</td>\n",
              "      <td>0.000000</td>\n",
              "      <td>1.000000</td>\n",
              "      <td>21.000000</td>\n",
              "      <td>0.000000</td>\n",
              "      <td>0.000000</td>\n",
              "      <td>7.895800</td>\n",
              "    </tr>\n",
              "    <tr>\n",
              "      <th>50%</th>\n",
              "      <td>1100.500000</td>\n",
              "      <td>0.000000</td>\n",
              "      <td>3.000000</td>\n",
              "      <td>27.000000</td>\n",
              "      <td>0.000000</td>\n",
              "      <td>0.000000</td>\n",
              "      <td>14.454200</td>\n",
              "    </tr>\n",
              "    <tr>\n",
              "      <th>75%</th>\n",
              "      <td>1204.750000</td>\n",
              "      <td>1.000000</td>\n",
              "      <td>3.000000</td>\n",
              "      <td>39.000000</td>\n",
              "      <td>1.000000</td>\n",
              "      <td>0.000000</td>\n",
              "      <td>31.500000</td>\n",
              "    </tr>\n",
              "    <tr>\n",
              "      <th>max</th>\n",
              "      <td>1309.000000</td>\n",
              "      <td>1.000000</td>\n",
              "      <td>3.000000</td>\n",
              "      <td>76.000000</td>\n",
              "      <td>8.000000</td>\n",
              "      <td>9.000000</td>\n",
              "      <td>512.329200</td>\n",
              "    </tr>\n",
              "  </tbody>\n",
              "</table>\n",
              "</div>\n",
              "      <button class=\"colab-df-convert\" onclick=\"convertToInteractive('df-95485e6e-d6f8-42d3-a51f-60fd9e45e312')\"\n",
              "              title=\"Convert this dataframe to an interactive table.\"\n",
              "              style=\"display:none;\">\n",
              "        \n",
              "  <svg xmlns=\"http://www.w3.org/2000/svg\" height=\"24px\"viewBox=\"0 0 24 24\"\n",
              "       width=\"24px\">\n",
              "    <path d=\"M0 0h24v24H0V0z\" fill=\"none\"/>\n",
              "    <path d=\"M18.56 5.44l.94 2.06.94-2.06 2.06-.94-2.06-.94-.94-2.06-.94 2.06-2.06.94zm-11 1L8.5 8.5l.94-2.06 2.06-.94-2.06-.94L8.5 2.5l-.94 2.06-2.06.94zm10 10l.94 2.06.94-2.06 2.06-.94-2.06-.94-.94-2.06-.94 2.06-2.06.94z\"/><path d=\"M17.41 7.96l-1.37-1.37c-.4-.4-.92-.59-1.43-.59-.52 0-1.04.2-1.43.59L10.3 9.45l-7.72 7.72c-.78.78-.78 2.05 0 2.83L4 21.41c.39.39.9.59 1.41.59.51 0 1.02-.2 1.41-.59l7.78-7.78 2.81-2.81c.8-.78.8-2.07 0-2.86zM5.41 20L4 18.59l7.72-7.72 1.47 1.35L5.41 20z\"/>\n",
              "  </svg>\n",
              "      </button>\n",
              "      \n",
              "  <style>\n",
              "    .colab-df-container {\n",
              "      display:flex;\n",
              "      flex-wrap:wrap;\n",
              "      gap: 12px;\n",
              "    }\n",
              "\n",
              "    .colab-df-convert {\n",
              "      background-color: #E8F0FE;\n",
              "      border: none;\n",
              "      border-radius: 50%;\n",
              "      cursor: pointer;\n",
              "      display: none;\n",
              "      fill: #1967D2;\n",
              "      height: 32px;\n",
              "      padding: 0 0 0 0;\n",
              "      width: 32px;\n",
              "    }\n",
              "\n",
              "    .colab-df-convert:hover {\n",
              "      background-color: #E2EBFA;\n",
              "      box-shadow: 0px 1px 2px rgba(60, 64, 67, 0.3), 0px 1px 3px 1px rgba(60, 64, 67, 0.15);\n",
              "      fill: #174EA6;\n",
              "    }\n",
              "\n",
              "    [theme=dark] .colab-df-convert {\n",
              "      background-color: #3B4455;\n",
              "      fill: #D2E3FC;\n",
              "    }\n",
              "\n",
              "    [theme=dark] .colab-df-convert:hover {\n",
              "      background-color: #434B5C;\n",
              "      box-shadow: 0px 1px 3px 1px rgba(0, 0, 0, 0.15);\n",
              "      filter: drop-shadow(0px 1px 2px rgba(0, 0, 0, 0.3));\n",
              "      fill: #FFFFFF;\n",
              "    }\n",
              "  </style>\n",
              "\n",
              "      <script>\n",
              "        const buttonEl =\n",
              "          document.querySelector('#df-95485e6e-d6f8-42d3-a51f-60fd9e45e312 button.colab-df-convert');\n",
              "        buttonEl.style.display =\n",
              "          google.colab.kernel.accessAllowed ? 'block' : 'none';\n",
              "\n",
              "        async function convertToInteractive(key) {\n",
              "          const element = document.querySelector('#df-95485e6e-d6f8-42d3-a51f-60fd9e45e312');\n",
              "          const dataTable =\n",
              "            await google.colab.kernel.invokeFunction('convertToInteractive',\n",
              "                                                     [key], {});\n",
              "          if (!dataTable) return;\n",
              "\n",
              "          const docLinkHtml = 'Like what you see? Visit the ' +\n",
              "            '<a target=\"_blank\" href=https://colab.research.google.com/notebooks/data_table.ipynb>data table notebook</a>'\n",
              "            + ' to learn more about interactive tables.';\n",
              "          element.innerHTML = '';\n",
              "          dataTable['output_type'] = 'display_data';\n",
              "          await google.colab.output.renderOutput(dataTable, element);\n",
              "          const docLink = document.createElement('div');\n",
              "          docLink.innerHTML = docLinkHtml;\n",
              "          element.appendChild(docLink);\n",
              "        }\n",
              "      </script>\n",
              "    </div>\n",
              "  </div>\n",
              "  "
            ]
          },
          "metadata": {},
          "execution_count": 4
        }
      ]
    },
    {
      "cell_type": "code",
      "source": [
        "scaler=StandardScaler()"
      ],
      "metadata": {
        "id": "wUZlspirUJ9R"
      },
      "execution_count": null,
      "outputs": []
    },
    {
      "cell_type": "code",
      "source": [
        "data['Pclass'].isnull().sum()"
      ],
      "metadata": {
        "colab": {
          "base_uri": "https://localhost:8080/"
        },
        "id": "qUaVgpt6UV5V",
        "outputId": "6bf2d6e1-8b75-4921-f0c3-b1a561edada7"
      },
      "execution_count": null,
      "outputs": [
        {
          "output_type": "execute_result",
          "data": {
            "text/plain": [
              "0"
            ]
          },
          "metadata": {},
          "execution_count": 16
        }
      ]
    },
    {
      "cell_type": "code",
      "source": [
        "data.isnull().sum()"
      ],
      "metadata": {
        "colab": {
          "base_uri": "https://localhost:8080/"
        },
        "id": "8uEgMvq1UVu0",
        "outputId": "a413da18-4d13-4026-9a82-fe34ab5515fc"
      },
      "execution_count": null,
      "outputs": [
        {
          "output_type": "execute_result",
          "data": {
            "text/plain": [
              "PassengerId      0\n",
              "Survived         0\n",
              "Pclass           0\n",
              "Name             0\n",
              "Sex              0\n",
              "Age             86\n",
              "SibSp            0\n",
              "Parch            0\n",
              "Ticket           0\n",
              "Fare             1\n",
              "Cabin          327\n",
              "Embarked         0\n",
              "dtype: int64"
            ]
          },
          "metadata": {},
          "execution_count": 17
        }
      ]
    },
    {
      "cell_type": "code",
      "source": [
        "data['Age']=data['Age'].fillna(data['Age'].mean())"
      ],
      "metadata": {
        "id": "FxCgtmNqU5Bf"
      },
      "execution_count": null,
      "outputs": []
    },
    {
      "cell_type": "code",
      "source": [
        "data['Age'].isnull().sum()"
      ],
      "metadata": {
        "colab": {
          "base_uri": "https://localhost:8080/"
        },
        "id": "5lvBKdRRXkx3",
        "outputId": "0be92a7b-48e1-471b-9bca-c555308c1c28"
      },
      "execution_count": null,
      "outputs": [
        {
          "output_type": "execute_result",
          "data": {
            "text/plain": [
              "0"
            ]
          },
          "metadata": {},
          "execution_count": 28
        }
      ]
    },
    {
      "cell_type": "code",
      "source": [
        "np.array(data['Age']).shape"
      ],
      "metadata": {
        "colab": {
          "base_uri": "https://localhost:8080/"
        },
        "id": "T6IZd2vEWCwe",
        "outputId": "43d00544-6bc4-4ba5-d8d3-244c6b3d9b56"
      },
      "execution_count": null,
      "outputs": [
        {
          "output_type": "execute_result",
          "data": {
            "text/plain": [
              "(418,)"
            ]
          },
          "metadata": {},
          "execution_count": 36
        }
      ]
    },
    {
      "cell_type": "code",
      "source": [
        "w=np.array(data['Age']).reshape(-1,1)"
      ],
      "metadata": {
        "id": "BPJs14qBWk3k"
      },
      "execution_count": null,
      "outputs": []
    },
    {
      "cell_type": "code",
      "source": [
        "w.shape"
      ],
      "metadata": {
        "colab": {
          "base_uri": "https://localhost:8080/"
        },
        "id": "mIRnmhiLYa6O",
        "outputId": "3bef7bbe-e9fa-417f-9f3e-43d125b70f1b"
      },
      "execution_count": null,
      "outputs": [
        {
          "output_type": "execute_result",
          "data": {
            "text/plain": [
              "(418, 1)"
            ]
          },
          "metadata": {},
          "execution_count": 39
        }
      ]
    },
    {
      "cell_type": "code",
      "source": [
        "scaler.fit(w)"
      ],
      "metadata": {
        "colab": {
          "base_uri": "https://localhost:8080/",
          "height": 74
        },
        "id": "aW39ataTZO1-",
        "outputId": "ea7ba510-363c-4360-c0a1-30526eb9b350"
      },
      "execution_count": null,
      "outputs": [
        {
          "output_type": "execute_result",
          "data": {
            "text/plain": [
              "StandardScaler()"
            ],
            "text/html": [
              "<style>#sk-container-id-1 {color: black;background-color: white;}#sk-container-id-1 pre{padding: 0;}#sk-container-id-1 div.sk-toggleable {background-color: white;}#sk-container-id-1 label.sk-toggleable__label {cursor: pointer;display: block;width: 100%;margin-bottom: 0;padding: 0.3em;box-sizing: border-box;text-align: center;}#sk-container-id-1 label.sk-toggleable__label-arrow:before {content: \"▸\";float: left;margin-right: 0.25em;color: #696969;}#sk-container-id-1 label.sk-toggleable__label-arrow:hover:before {color: black;}#sk-container-id-1 div.sk-estimator:hover label.sk-toggleable__label-arrow:before {color: black;}#sk-container-id-1 div.sk-toggleable__content {max-height: 0;max-width: 0;overflow: hidden;text-align: left;background-color: #f0f8ff;}#sk-container-id-1 div.sk-toggleable__content pre {margin: 0.2em;color: black;border-radius: 0.25em;background-color: #f0f8ff;}#sk-container-id-1 input.sk-toggleable__control:checked~div.sk-toggleable__content {max-height: 200px;max-width: 100%;overflow: auto;}#sk-container-id-1 input.sk-toggleable__control:checked~label.sk-toggleable__label-arrow:before {content: \"▾\";}#sk-container-id-1 div.sk-estimator input.sk-toggleable__control:checked~label.sk-toggleable__label {background-color: #d4ebff;}#sk-container-id-1 div.sk-label input.sk-toggleable__control:checked~label.sk-toggleable__label {background-color: #d4ebff;}#sk-container-id-1 input.sk-hidden--visually {border: 0;clip: rect(1px 1px 1px 1px);clip: rect(1px, 1px, 1px, 1px);height: 1px;margin: -1px;overflow: hidden;padding: 0;position: absolute;width: 1px;}#sk-container-id-1 div.sk-estimator {font-family: monospace;background-color: #f0f8ff;border: 1px dotted black;border-radius: 0.25em;box-sizing: border-box;margin-bottom: 0.5em;}#sk-container-id-1 div.sk-estimator:hover {background-color: #d4ebff;}#sk-container-id-1 div.sk-parallel-item::after {content: \"\";width: 100%;border-bottom: 1px solid gray;flex-grow: 1;}#sk-container-id-1 div.sk-label:hover label.sk-toggleable__label {background-color: #d4ebff;}#sk-container-id-1 div.sk-serial::before {content: \"\";position: absolute;border-left: 1px solid gray;box-sizing: border-box;top: 0;bottom: 0;left: 50%;z-index: 0;}#sk-container-id-1 div.sk-serial {display: flex;flex-direction: column;align-items: center;background-color: white;padding-right: 0.2em;padding-left: 0.2em;position: relative;}#sk-container-id-1 div.sk-item {position: relative;z-index: 1;}#sk-container-id-1 div.sk-parallel {display: flex;align-items: stretch;justify-content: center;background-color: white;position: relative;}#sk-container-id-1 div.sk-item::before, #sk-container-id-1 div.sk-parallel-item::before {content: \"\";position: absolute;border-left: 1px solid gray;box-sizing: border-box;top: 0;bottom: 0;left: 50%;z-index: -1;}#sk-container-id-1 div.sk-parallel-item {display: flex;flex-direction: column;z-index: 1;position: relative;background-color: white;}#sk-container-id-1 div.sk-parallel-item:first-child::after {align-self: flex-end;width: 50%;}#sk-container-id-1 div.sk-parallel-item:last-child::after {align-self: flex-start;width: 50%;}#sk-container-id-1 div.sk-parallel-item:only-child::after {width: 0;}#sk-container-id-1 div.sk-dashed-wrapped {border: 1px dashed gray;margin: 0 0.4em 0.5em 0.4em;box-sizing: border-box;padding-bottom: 0.4em;background-color: white;}#sk-container-id-1 div.sk-label label {font-family: monospace;font-weight: bold;display: inline-block;line-height: 1.2em;}#sk-container-id-1 div.sk-label-container {text-align: center;}#sk-container-id-1 div.sk-container {/* jupyter's `normalize.less` sets `[hidden] { display: none; }` but bootstrap.min.css set `[hidden] { display: none !important; }` so we also need the `!important` here to be able to override the default hidden behavior on the sphinx rendered scikit-learn.org. See: https://github.com/scikit-learn/scikit-learn/issues/21755 */display: inline-block !important;position: relative;}#sk-container-id-1 div.sk-text-repr-fallback {display: none;}</style><div id=\"sk-container-id-1\" class=\"sk-top-container\"><div class=\"sk-text-repr-fallback\"><pre>StandardScaler()</pre><b>In a Jupyter environment, please rerun this cell to show the HTML representation or trust the notebook. <br />On GitHub, the HTML representation is unable to render, please try loading this page with nbviewer.org.</b></div><div class=\"sk-container\" hidden><div class=\"sk-item\"><div class=\"sk-estimator sk-toggleable\"><input class=\"sk-toggleable__control sk-hidden--visually\" id=\"sk-estimator-id-1\" type=\"checkbox\" checked><label for=\"sk-estimator-id-1\" class=\"sk-toggleable__label sk-toggleable__label-arrow\">StandardScaler</label><div class=\"sk-toggleable__content\"><pre>StandardScaler()</pre></div></div></div></div></div>"
            ]
          },
          "metadata": {},
          "execution_count": 48
        }
      ]
    },
    {
      "cell_type": "code",
      "source": [
        "Y=scaler.transform\n",
        "print(Y)"
      ],
      "metadata": {
        "colab": {
          "base_uri": "https://localhost:8080/"
        },
        "id": "MAzlKlJeZ8FO",
        "outputId": "dbcc7a11-6f70-4334-c831-281314082938"
      },
      "execution_count": null,
      "outputs": [
        {
          "output_type": "stream",
          "name": "stdout",
          "text": [
            "<bound method StandardScaler.transform of StandardScaler()>\n"
          ]
        }
      ]
    },
    {
      "cell_type": "code",
      "source": [
        "Y=scaler.transform(w)\n",
        "print(Y)"
      ],
      "metadata": {
        "colab": {
          "base_uri": "https://localhost:8080/"
        },
        "id": "RECfLrSKbfWh",
        "outputId": "caad1582-cbe0-4c37-d109-c17e706c760f"
      },
      "execution_count": null,
      "outputs": [
        {
          "output_type": "stream",
          "name": "stdout",
          "text": [
            "[[ 0.3349926 ]\n",
            " [ 1.32553003]\n",
            " [ 2.51417495]\n",
            " [-0.25932986]\n",
            " [-0.65554483]\n",
            " [-1.28948879]\n",
            " [-0.02160088]\n",
            " [-0.33857285]\n",
            " [-0.97251681]\n",
            " [-0.73478783]\n",
            " [ 0.        ]\n",
            " [ 1.24628704]\n",
            " [-0.57630184]\n",
            " [ 2.59341795]\n",
            " [ 1.32553003]\n",
            " [-0.49705884]\n",
            " [ 0.3746141 ]\n",
            " [-0.73478783]\n",
            " [-0.25932986]\n",
            " [ 1.16704404]\n",
            " [ 1.95947399]\n",
            " [-1.68570376]\n",
            " [ 0.        ]\n",
            " [-0.73478783]\n",
            " [ 1.40477303]\n",
            " [ 1.56325902]\n",
            " [-0.65554483]\n",
            " [-0.61592334]\n",
            " [ 0.85007206]\n",
            " [ 0.        ]\n",
            " [ 1.56325902]\n",
            " [-0.49705884]\n",
            " [ 0.21612811]\n",
            " [ 0.        ]\n",
            " [-0.02160088]\n",
            " [-0.93289531]\n",
            " [ 0.        ]\n",
            " [-0.73478783]\n",
            " [-0.41781585]\n",
            " [ 0.        ]\n",
            " [ 0.69158607]\n",
            " [ 0.        ]\n",
            " [ 0.85007206]\n",
            " [-0.02160088]\n",
            " [ 1.16704404]\n",
            " [-0.41781585]\n",
            " [ 1.16704404]\n",
            " [ 0.        ]\n",
            " [ 2.35568896]\n",
            " [ 0.45385709]\n",
            " [-0.49705884]\n",
            " [-0.25932986]\n",
            " [-0.81403082]\n",
            " [-0.18008687]\n",
            " [ 0.        ]\n",
            " [-1.60646077]\n",
            " [ 0.3746141 ]\n",
            " [-0.41781585]\n",
            " [ 0.        ]\n",
            " [ 0.45385709]\n",
            " [-1.05175981]\n",
            " [ 0.13688511]\n",
            " [-0.97251681]\n",
            " [-0.65554483]\n",
            " [-1.36873178]\n",
            " [ 0.        ]\n",
            " [-0.97251681]\n",
            " [ 1.32553003]\n",
            " [ 0.05764212]\n",
            " [ 2.35568896]\n",
            " [-0.49705884]\n",
            " [-0.73478783]\n",
            " [-0.10084387]\n",
            " [-0.14046537]\n",
            " [ 0.3746141 ]\n",
            " [ 0.17650661]\n",
            " [ 0.        ]\n",
            " [ 1.95947399]\n",
            " [-0.02160088]\n",
            " [-0.49705884]\n",
            " [-1.92343275]\n",
            " [ 2.91038992]\n",
            " [ 1.48401602]\n",
            " [ 0.        ]\n",
            " [ 0.        ]\n",
            " [ 0.        ]\n",
            " [-0.25932986]\n",
            " [-0.97251681]\n",
            " [ 0.        ]\n",
            " [-2.24040473]\n",
            " [-0.65554483]\n",
            " [ 0.        ]\n",
            " [-0.25932986]\n",
            " [ 0.        ]\n",
            " [-0.41781585]\n",
            " [-0.41781585]\n",
            " [ 3.62357687]\n",
            " [-0.10084387]\n",
            " [-0.81403082]\n",
            " [ 0.21612811]\n",
            " [ 1.00855805]\n",
            " [-0.25932986]\n",
            " [ 0.        ]\n",
            " [-0.33857285]\n",
            " [-1.1310028 ]\n",
            " [-0.18008687]\n",
            " [-0.73478783]\n",
            " [ 0.        ]\n",
            " [ 0.        ]\n",
            " [-0.93289531]\n",
            " [ 0.85007206]\n",
            " [ 0.        ]\n",
            " [ 0.45385709]\n",
            " [-0.93289531]\n",
            " [ 2.59341795]\n",
            " [-0.97251681]\n",
            " [ 0.        ]\n",
            " [-2.31964772]\n",
            " [ 0.45385709]\n",
            " [-0.10084387]\n",
            " [-1.44797478]\n",
            " [ 0.        ]\n",
            " [ 0.3746141 ]\n",
            " [-0.18008687]\n",
            " [ 0.        ]\n",
            " [-1.05175981]\n",
            " [-0.65554483]\n",
            " [ 0.        ]\n",
            " [ 0.92931506]\n",
            " [-0.49705884]\n",
            " [ 0.13688511]\n",
            " [ 1.800988  ]\n",
            " [ 0.        ]\n",
            " [ 0.        ]\n",
            " [ 1.00855805]\n",
            " [-0.49705884]\n",
            " [-0.29895136]\n",
            " [-0.33857285]\n",
            " [-0.57630184]\n",
            " [ 0.77082907]\n",
            " [-1.60646077]\n",
            " [ 0.21612811]\n",
            " [ 2.43493196]\n",
            " [-0.18008687]\n",
            " [ 0.92931506]\n",
            " [ 0.05764212]\n",
            " [ 0.        ]\n",
            " [-0.65554483]\n",
            " [ 0.        ]\n",
            " [-0.02160088]\n",
            " [-0.57630184]\n",
            " [ 0.        ]\n",
            " [ 2.39531046]\n",
            " [ 0.45385709]\n",
            " [-1.36873178]\n",
            " [-0.49705884]\n",
            " [-0.10084387]\n",
            " [-0.57630184]\n",
            " [ 0.92931506]\n",
            " [-0.33857285]\n",
            " [ 0.        ]\n",
            " [-1.84418975]\n",
            " [-0.33857285]\n",
            " [ 0.        ]\n",
            " [ 0.85007206]\n",
            " [-0.33857285]\n",
            " [ 1.40477303]\n",
            " [-0.97251681]\n",
            " [ 0.        ]\n",
            " [-0.65554483]\n",
            " [ 0.        ]\n",
            " [-0.25932986]\n",
            " [-0.57630184]\n",
            " [ 0.        ]\n",
            " [ 0.77082907]\n",
            " [-1.2102458 ]\n",
            " [-0.81403082]\n",
            " [ 1.88023099]\n",
            " [ 0.45385709]\n",
            " [ 2.67266094]\n",
            " [-0.02160088]\n",
            " [ 0.53310009]\n",
            " [-0.97251681]\n",
            " [ 0.        ]\n",
            " [-0.25932986]\n",
            " [ 0.77082907]\n",
            " [-0.73478783]\n",
            " [-1.05175981]\n",
            " [ 0.        ]\n",
            " [ 0.77082907]\n",
            " [ 0.2953711 ]\n",
            " [ 0.        ]\n",
            " [-1.48759628]\n",
            " [ 2.43493196]\n",
            " [-1.76494676]\n",
            " [ 0.21612811]\n",
            " [-1.92343275]\n",
            " [-0.97251681]\n",
            " [-0.57630184]\n",
            " [ 0.        ]\n",
            " [ 0.        ]\n",
            " [-2.37274053]\n",
            " [ 1.32553003]\n",
            " [-1.76494676]\n",
            " [-0.41781585]\n",
            " [ 0.        ]\n",
            " [ 0.3746141 ]\n",
            " [-0.49705884]\n",
            " [ 0.21612811]\n",
            " [-0.41781585]\n",
            " [ 0.13688511]\n",
            " [ 0.        ]\n",
            " [-1.05175981]\n",
            " [ 2.35568896]\n",
            " [ 0.61234308]\n",
            " [ 0.92931506]\n",
            " [ 0.        ]\n",
            " [ 2.11795998]\n",
            " [ 1.56325902]\n",
            " [ 0.        ]\n",
            " [-0.02160088]\n",
            " [-0.73478783]\n",
            " [-0.65554483]\n",
            " [-0.73478783]\n",
            " [ 1.800988  ]\n",
            " [ 0.        ]\n",
            " [-0.57630184]\n",
            " [ 0.        ]\n",
            " [ 0.81045057]\n",
            " [ 0.45385709]\n",
            " [-1.28948879]\n",
            " [-0.73478783]\n",
            " [-0.73478783]\n",
            " [ 0.        ]\n",
            " [ 0.69158607]\n",
            " [-0.81403082]\n",
            " [ 2.67266094]\n",
            " [-0.81403082]\n",
            " [-0.97251681]\n",
            " [ 1.40477303]\n",
            " [ 1.95947399]\n",
            " [ 1.16704404]\n",
            " [ 1.16704404]\n",
            " [ 0.        ]\n",
            " [ 0.        ]\n",
            " [ 0.85007206]\n",
            " [-0.65554483]\n",
            " [ 0.92931506]\n",
            " [-0.10084387]\n",
            " [ 0.        ]\n",
            " [-2.32598716]\n",
            " [-0.81403082]\n",
            " [-0.25932986]\n",
            " [-0.49705884]\n",
            " [ 0.17650661]\n",
            " [ 0.        ]\n",
            " [ 0.        ]\n",
            " [-0.18008687]\n",
            " [-0.89327382]\n",
            " [-0.73478783]\n",
            " [ 0.49347859]\n",
            " [-0.73478783]\n",
            " [-0.10084387]\n",
            " [-2.31964772]\n",
            " [-0.02160088]\n",
            " [ 0.        ]\n",
            " [ 0.        ]\n",
            " [ 0.        ]\n",
            " [ 0.        ]\n",
            " [-1.05175981]\n",
            " [ 1.24628704]\n",
            " [ 0.        ]\n",
            " [-0.33857285]\n",
            " [ 0.        ]\n",
            " [ 0.        ]\n",
            " [-0.81403082]\n",
            " [-0.18008687]\n",
            " [ 0.77082907]\n",
            " [-0.02160088]\n",
            " [-0.65554483]\n",
            " [-0.57630184]\n",
            " [-2.33945847]\n",
            " [ 0.        ]\n",
            " [-1.68570376]\n",
            " [-2.24040473]\n",
            " [ 0.45385709]\n",
            " [ 0.        ]\n",
            " [-0.49705884]\n",
            " [ 0.        ]\n",
            " [ 0.        ]\n",
            " [ 0.        ]\n",
            " [-0.02160088]\n",
            " [ 0.        ]\n",
            " [ 1.800988  ]\n",
            " [ 0.45385709]\n",
            " [-0.33857285]\n",
            " [-2.31964772]\n",
            " [ 0.        ]\n",
            " [-0.02160088]\n",
            " [-0.10084387]\n",
            " [ 0.13688511]\n",
            " [ 0.        ]\n",
            " [ 1.00855805]\n",
            " [-0.49705884]\n",
            " [ 0.        ]\n",
            " [ 2.67266094]\n",
            " [-0.02160088]\n",
            " [-2.33311903]\n",
            " [ 1.95947399]\n",
            " [ 1.16704404]\n",
            " [-0.97251681]\n",
            " [-0.65554483]\n",
            " [ 0.        ]\n",
            " [ 0.53310009]\n",
            " [ 1.95947399]\n",
            " [-1.05175981]\n",
            " [ 2.11795998]\n",
            " [-0.89327382]\n",
            " [-0.25932986]\n",
            " [-0.65554483]\n",
            " [-0.33857285]\n",
            " [-0.41781585]\n",
            " [-0.33857285]\n",
            " [ 0.21612811]\n",
            " [ 0.69158607]\n",
            " [-0.57630184]\n",
            " [-1.44797478]\n",
            " [ 1.24628704]\n",
            " [-0.10084387]\n",
            " [-0.73478783]\n",
            " [ 1.40477303]\n",
            " [ 0.69158607]\n",
            " [ 0.        ]\n",
            " [-0.89327382]\n",
            " [-0.25932986]\n",
            " [-0.02160088]\n",
            " [ 0.13688511]\n",
            " [ 0.69158607]\n",
            " [-0.41781585]\n",
            " [ 0.        ]\n",
            " [-0.97251681]\n",
            " [ 0.13688511]\n",
            " [ 0.        ]\n",
            " [ 2.19720297]\n",
            " [ 0.        ]\n",
            " [-1.1310028 ]\n",
            " [-0.33857285]\n",
            " [ 0.61234308]\n",
            " [-0.49705884]\n",
            " [ 0.05764212]\n",
            " [ 1.16704404]\n",
            " [-0.41781585]\n",
            " [-0.97251681]\n",
            " [ 1.48401602]\n",
            " [-2.38541941]\n",
            " [ 1.56325902]\n",
            " [ 2.27644597]\n",
            " [ 0.        ]\n",
            " [ 0.        ]\n",
            " [-0.02160088]\n",
            " [-1.24986729]\n",
            " [-0.49705884]\n",
            " [ 0.05764212]\n",
            " [-0.25932986]\n",
            " [-0.41781585]\n",
            " [ 0.        ]\n",
            " [ 0.        ]\n",
            " [-0.65554483]\n",
            " [ 1.16704404]\n",
            " [-0.10084387]\n",
            " [-0.73478783]\n",
            " [ 0.05764212]\n",
            " [ 1.48401602]\n",
            " [ 1.08780105]\n",
            " [ 1.88023099]\n",
            " [ 1.16704404]\n",
            " [-0.65554483]\n",
            " [-0.73478783]\n",
            " [ 1.95947399]\n",
            " [-2.00267574]\n",
            " [ 0.        ]\n",
            " [-0.33857285]\n",
            " [ 0.        ]\n",
            " [-0.89327382]\n",
            " [ 0.        ]\n",
            " [-0.49705884]\n",
            " [-0.49705884]\n",
            " [ 2.11795998]\n",
            " [-0.73478783]\n",
            " [-1.92343275]\n",
            " [-0.57630184]\n",
            " [ 1.64250201]\n",
            " [-1.36873178]\n",
            " [ 1.32553003]\n",
            " [-0.10084387]\n",
            " [-0.97251681]\n",
            " [-0.49705884]\n",
            " [ 1.40477303]\n",
            " [-0.65554483]\n",
            " [ 0.05764212]\n",
            " [-0.02160088]\n",
            " [ 0.61234308]\n",
            " [-0.65554483]\n",
            " [-1.05175981]\n",
            " [ 1.00855805]\n",
            " [-0.81403082]\n",
            " [-0.57630184]\n",
            " [ 1.56325902]\n",
            " [ 0.        ]\n",
            " [-2.16116173]\n",
            " [ 0.        ]\n",
            " [ 0.53310009]\n",
            " [-0.18008687]\n",
            " [ 0.        ]\n",
            " [ 0.69158607]\n",
            " [ 0.65196458]\n",
            " [ 0.        ]\n",
            " [ 0.        ]]\n"
          ]
        }
      ]
    },
    {
      "cell_type": "code",
      "source": [
        "Y.dtype"
      ],
      "metadata": {
        "colab": {
          "base_uri": "https://localhost:8080/"
        },
        "id": "lEEKK08bd6x-",
        "outputId": "fb63e430-0c6b-482f-a1de-81ddc12c4b82"
      },
      "execution_count": null,
      "outputs": [
        {
          "output_type": "execute_result",
          "data": {
            "text/plain": [
              "dtype('float64')"
            ]
          },
          "metadata": {},
          "execution_count": 56
        }
      ]
    },
    {
      "cell_type": "code",
      "source": [
        "Y.mean()"
      ],
      "metadata": {
        "colab": {
          "base_uri": "https://localhost:8080/"
        },
        "id": "1LKy7JNGe5Ci",
        "outputId": "92f64d2d-742c-488b-c4ca-b390f17a8148"
      },
      "execution_count": null,
      "outputs": [
        {
          "output_type": "execute_result",
          "data": {
            "text/plain": [
              "3.187243132895186e-17"
            ]
          },
          "metadata": {},
          "execution_count": 57
        }
      ]
    },
    {
      "cell_type": "code",
      "source": [
        "Y.std()"
      ],
      "metadata": {
        "colab": {
          "base_uri": "https://localhost:8080/"
        },
        "id": "_QQ9j3Zae8mv",
        "outputId": "923ad128-fbcd-4bd1-b6b0-3275847e7dfd"
      },
      "execution_count": null,
      "outputs": [
        {
          "output_type": "execute_result",
          "data": {
            "text/plain": [
              "1.0"
            ]
          },
          "metadata": {},
          "execution_count": 58
        }
      ]
    },
    {
      "cell_type": "code",
      "source": [
        "data['Age'] = pd.Series(Y.reshape(-1))\n",
        "print(data['Age'])"
      ],
      "metadata": {
        "colab": {
          "base_uri": "https://localhost:8080/"
        },
        "id": "-IhjoYAyfG8O",
        "outputId": "a438e9d2-c095-4476-faea-a3d851b717e2"
      },
      "execution_count": null,
      "outputs": [
        {
          "output_type": "stream",
          "name": "stdout",
          "text": [
            "0      0.334993\n",
            "1      1.325530\n",
            "2      2.514175\n",
            "3     -0.259330\n",
            "4     -0.655545\n",
            "         ...   \n",
            "413    0.000000\n",
            "414    0.691586\n",
            "415    0.651965\n",
            "416    0.000000\n",
            "417    0.000000\n",
            "Name: Age, Length: 418, dtype: float64\n"
          ]
        }
      ]
    },
    {
      "cell_type": "code",
      "source": [
        "import seaborn as sns\n"
      ],
      "metadata": {
        "id": "JW_fbj_8fSJG"
      },
      "execution_count": null,
      "outputs": []
    }
  ]
}