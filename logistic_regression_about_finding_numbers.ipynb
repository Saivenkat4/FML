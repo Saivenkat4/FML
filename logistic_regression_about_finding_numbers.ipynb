{
  "nbformat": 4,
  "nbformat_minor": 0,
  "metadata": {
    "colab": {
      "provenance": [],
      "toc_visible": true,
      "authorship_tag": "ABX9TyN8uexznsp7sedNadUSJjON",
      "include_colab_link": true
    },
    "kernelspec": {
      "name": "python3",
      "display_name": "Python 3"
    },
    "language_info": {
      "name": "python"
    }
  },
  "cells": [
    {
      "cell_type": "markdown",
      "metadata": {
        "id": "view-in-github",
        "colab_type": "text"
      },
      "source": [
        "<a href=\"https://colab.research.google.com/github/Saivenkat4/FML/blob/main/logistic_regression_about_finding_numbers.ipynb\" target=\"_parent\"><img src=\"https://colab.research.google.com/assets/colab-badge.svg\" alt=\"Open In Colab\"/></a>"
      ]
    },
    {
      "cell_type": "code",
      "execution_count": 1,
      "metadata": {
        "id": "zejfOMJfNOMN"
      },
      "outputs": [],
      "source": [
        "import matplotlib.pyplot as plt\n",
        "import numpy as np\n",
        "from sklearn.datasets import load_digits\n",
        "from sklearn.linear_model import LogisticRegression\n",
        "from sklearn.metrics import classification_report, confusion_matrix\n",
        "from sklearn.model_selection import train_test_split\n",
        "from sklearn.preprocessing import StandardScaler"
      ]
    },
    {
      "cell_type": "markdown",
      "source": [
        "This packages are imported mostly from sklearn \n",
        "\n",
        "\n",
        "The code you provided is importing the StandardScaler class from the Scikit-learn library's preprocessing module.\n",
        "---\n",
        "\n"
      ],
      "metadata": {
        "id": "utOYi2b1REI4"
      }
    },
    {
      "cell_type": "code",
      "source": [
        "X, y = load_digits(return_X_y=True)\n"
      ],
      "metadata": {
        "id": "MRMPk13iRC9K"
      },
      "execution_count": 5,
      "outputs": []
    },
    {
      "cell_type": "markdown",
      "source": [
        "In this the starting variable should be capital(\"X\")\n",
        "or there will be an error"
      ],
      "metadata": {
        "id": "cskFNbBcSqjg"
      }
    },
    {
      "cell_type": "code",
      "source": [
        "X.shape,y.shape"
      ],
      "metadata": {
        "colab": {
          "base_uri": "https://localhost:8080/"
        },
        "id": "uelG9WrlSqOi",
        "outputId": "b4677f23-f34b-4878-e9e1-0e1e25a692a6"
      },
      "execution_count": 6,
      "outputs": [
        {
          "output_type": "execute_result",
          "data": {
            "text/plain": [
              "((1797, 64), (1797,))"
            ]
          },
          "metadata": {},
          "execution_count": 6
        }
      ]
    },
    {
      "cell_type": "code",
      "source": [
        "X[10],y[10]"
      ],
      "metadata": {
        "colab": {
          "base_uri": "https://localhost:8080/"
        },
        "id": "xoAD8IVmTC_s",
        "outputId": "a158a6f5-3b28-460b-b813-c1cabe8beba6"
      },
      "execution_count": 7,
      "outputs": [
        {
          "output_type": "execute_result",
          "data": {
            "text/plain": [
              "(array([ 0.,  0.,  1.,  9., 15., 11.,  0.,  0.,  0.,  0., 11., 16.,  8.,\n",
              "        14.,  6.,  0.,  0.,  2., 16., 10.,  0.,  9.,  9.,  0.,  0.,  1.,\n",
              "        16.,  4.,  0.,  8.,  8.,  0.,  0.,  4., 16.,  4.,  0.,  8.,  8.,\n",
              "         0.,  0.,  1., 16.,  5.,  1., 11.,  3.,  0.,  0.,  0., 12., 12.,\n",
              "        10., 10.,  0.,  0.,  0.,  0.,  1., 10., 13.,  3.,  0.,  0.]),\n",
              " 0)"
            ]
          },
          "metadata": {},
          "execution_count": 7
        }
      ]
    },
    {
      "cell_type": "markdown",
      "source": [
        "\n",
        "In machine learning, X[10] and y[10] typically refer to the 11th data point in a dataset.\n",
        "\n",
        "X usually represents the features or inputs of the dataset, and y represents the target or output variable. The features are the variables that are used to predict the target variable, while the target variable is the variable being predicted."
      ],
      "metadata": {
        "id": "EzDD1T3OTsUM"
      }
    },
    {
      "cell_type": "code",
      "source": [
        "X[0],y[0]"
      ],
      "metadata": {
        "colab": {
          "base_uri": "https://localhost:8080/"
        },
        "id": "nzNUZ5OYTIuw",
        "outputId": "9de685ea-f5da-4241-d884-a6535f17f482"
      },
      "execution_count": 8,
      "outputs": [
        {
          "output_type": "execute_result",
          "data": {
            "text/plain": [
              "(array([ 0.,  0.,  5., 13.,  9.,  1.,  0.,  0.,  0.,  0., 13., 15., 10.,\n",
              "        15.,  5.,  0.,  0.,  3., 15.,  2.,  0., 11.,  8.,  0.,  0.,  4.,\n",
              "        12.,  0.,  0.,  8.,  8.,  0.,  0.,  5.,  8.,  0.,  0.,  9.,  8.,\n",
              "         0.,  0.,  4., 11.,  0.,  1., 12.,  7.,  0.,  0.,  2., 14.,  5.,\n",
              "        10., 12.,  0.,  0.,  0.,  0.,  6., 13., 10.,  0.,  0.,  0.]),\n",
              " 0)"
            ]
          },
          "metadata": {},
          "execution_count": 8
        }
      ]
    },
    {
      "cell_type": "code",
      "source": [
        "np.unique(y)"
      ],
      "metadata": {
        "colab": {
          "base_uri": "https://localhost:8080/"
        },
        "id": "C72Qb06nUYTL",
        "outputId": "ea9e282d-82ac-48e2-ef19-3b7a9802326a"
      },
      "execution_count": 11,
      "outputs": [
        {
          "output_type": "execute_result",
          "data": {
            "text/plain": [
              "array([0, 1, 2, 3, 4, 5, 6, 7, 8, 9])"
            ]
          },
          "metadata": {},
          "execution_count": 11
        }
      ]
    },
    {
      "cell_type": "code",
      "source": [
        "np.unique(X)"
      ],
      "metadata": {
        "colab": {
          "base_uri": "https://localhost:8080/"
        },
        "id": "YZHNp6J-Us8i",
        "outputId": "d9db7444-dd0b-4b8f-b6a7-1afef41e6804"
      },
      "execution_count": 12,
      "outputs": [
        {
          "output_type": "execute_result",
          "data": {
            "text/plain": [
              "array([ 0.,  1.,  2.,  3.,  4.,  5.,  6.,  7.,  8.,  9., 10., 11., 12.,\n",
              "       13., 14., 15., 16.])"
            ]
          },
          "metadata": {},
          "execution_count": 12
        }
      ]
    },
    {
      "cell_type": "code",
      "source": [
        "X_train, X_test, y_train, y_test=train_test_split(X,y,test_size=0.4,random_state=1)"
      ],
      "metadata": {
        "id": "n3gmlpnoUuh2"
      },
      "execution_count": 24,
      "outputs": []
    },
    {
      "cell_type": "markdown",
      "source": [
        "or"
      ],
      "metadata": {
        "id": "O2oEoV1JWtxi"
      }
    },
    {
      "cell_type": "code",
      "source": [
        "X_train, X_test, y_train, y_test =\\\n",
        "    train_test_split(X, y, test_size=0.2, random_state=0)\n"
      ],
      "metadata": {
        "id": "f91YjtKPWP0z"
      },
      "execution_count": 16,
      "outputs": []
    },
    {
      "cell_type": "markdown",
      "source": [
        "Standardization is the process of transforming data in a way such that the mean of each column becomes equal to zero, and the standard deviation of each column is one."
      ],
      "metadata": {
        "id": "1N5mOFzhVG5C"
      }
    },
    {
      "cell_type": "code",
      "source": [
        "X_train[0],np.mean(X_train[0]),np.std(X_train[0])"
      ],
      "metadata": {
        "colab": {
          "base_uri": "https://localhost:8080/"
        },
        "id": "MKTsNTwwWwCe",
        "outputId": "c8104478-3243-4a2f-895b-e625cf65613b"
      },
      "execution_count": 25,
      "outputs": [
        {
          "output_type": "execute_result",
          "data": {
            "text/plain": [
              "(array([ 0.,  2., 13., 16.,  4.,  0.,  0.,  0.,  0., 12., 12., 12., 15.,\n",
              "         0.,  0.,  0.,  0.,  5.,  2.,  7., 14.,  0.,  0.,  0.,  0.,  0.,\n",
              "         3., 15., 15.,  7.,  0.,  0.,  0.,  0.,  4., 12., 12., 16.,  3.,\n",
              "         0.,  0.,  0.,  0.,  0.,  0., 15.,  7.,  0.,  0.,  3., 16.,  8.,\n",
              "         9., 16.,  6.,  0.,  0.,  1., 11., 12., 14.,  9.,  0.,  0.]),\n",
              " 5.125,\n",
              " 5.98304897188716)"
            ]
          },
          "metadata": {},
          "execution_count": 25
        }
      ]
    },
    {
      "cell_type": "markdown",
      "source": [
        "64 features are available "
      ],
      "metadata": {
        "id": "fdPlLAP1Xhrl"
      }
    },
    {
      "cell_type": "code",
      "source": [
        "scaler = StandardScaler()\n",
        "X_train = scaler.fit_transform(X_train)"
      ],
      "metadata": {
        "id": "b-DlEwb1XseX"
      },
      "execution_count": 26,
      "outputs": []
    },
    {
      "cell_type": "markdown",
      "source": [
        "\n",
        "In the code you provided, the \"fit_transform\" method of the StandardScaler object is being used to normalize the features in X_train. The fit_transform method fits the scaler to the training data (X_train) and applies the transformation to the training data. "
      ],
      "metadata": {
        "id": "0izsx3NDcew0"
      }
    },
    {
      "cell_type": "code",
      "source": [
        "X_train[0],np.mean(X_train[0]),np.std(X_train[0])"
      ],
      "metadata": {
        "colab": {
          "base_uri": "https://localhost:8080/"
        },
        "id": "loBnq17jcih7",
        "outputId": "8f927db9-d98c-408d-8241-540ace39ad68"
      },
      "execution_count": 27,
      "outputs": [
        {
          "output_type": "execute_result",
          "data": {
            "text/plain": [
              "(array([ 0.        ,  1.85064698,  1.6224474 ,  0.97329055, -1.83516787,\n",
              "        -1.02316058, -0.41682164, -0.13231248, -0.05765437,  3.23389739,\n",
              "         0.29723   , -0.02071129,  0.99874798, -1.3713515 , -0.52526846,\n",
              "        -0.13943018, -0.04311306,  0.70307236, -1.42391095, -0.02568809,\n",
              "         1.12232783, -1.2731698 , -0.5464966 , -0.1202086 ,  0.        ,\n",
              "        -0.79017853, -0.98509819,  1.02227835,  0.81093026, -0.08903826,\n",
              "        -0.61759518, -0.04311306,  0.        , -0.68542701, -0.58911582,\n",
              "         0.43629784,  0.28223324,  1.24534297,  0.04279583,  0.        ,\n",
              "        -0.05490561, -0.52261725, -1.0619941 , -1.14518862, -1.23703367,\n",
              "         1.18678183,  0.80972969, -0.09832176, -0.04576756,  1.25655876,\n",
              "         1.49068892, -0.29910394, -0.07866162,  1.20294718,  0.45998206,\n",
              "        -0.20826513, -0.03047138,  0.74164463,  1.06678348, -0.0330101 ,\n",
              "         0.4471682 ,  0.38490097, -0.50337913, -0.18653013]),\n",
              " 0.08483504940139101,\n",
              " 0.8941347445152715)"
            ]
          },
          "metadata": {},
          "execution_count": 27
        }
      ]
    },
    {
      "cell_type": "code",
      "source": [
        "#create a model and train it\n",
        "model=LogisticRegression(C=0.05,multi_class='ovr',random_state=0)\n",
        "model.fit(X_train,y_train)"
      ],
      "metadata": {
        "colab": {
          "base_uri": "https://localhost:8080/",
          "height": 74
        },
        "id": "VT02Lr_7cv10",
        "outputId": "5c274e6c-0651-4818-e6cd-ab758aff7c50"
      },
      "execution_count": 28,
      "outputs": [
        {
          "output_type": "execute_result",
          "data": {
            "text/plain": [
              "LogisticRegression(C=0.05, multi_class='ovr', random_state=0)"
            ],
            "text/html": [
              "<style>#sk-container-id-1 {color: black;background-color: white;}#sk-container-id-1 pre{padding: 0;}#sk-container-id-1 div.sk-toggleable {background-color: white;}#sk-container-id-1 label.sk-toggleable__label {cursor: pointer;display: block;width: 100%;margin-bottom: 0;padding: 0.3em;box-sizing: border-box;text-align: center;}#sk-container-id-1 label.sk-toggleable__label-arrow:before {content: \"▸\";float: left;margin-right: 0.25em;color: #696969;}#sk-container-id-1 label.sk-toggleable__label-arrow:hover:before {color: black;}#sk-container-id-1 div.sk-estimator:hover label.sk-toggleable__label-arrow:before {color: black;}#sk-container-id-1 div.sk-toggleable__content {max-height: 0;max-width: 0;overflow: hidden;text-align: left;background-color: #f0f8ff;}#sk-container-id-1 div.sk-toggleable__content pre {margin: 0.2em;color: black;border-radius: 0.25em;background-color: #f0f8ff;}#sk-container-id-1 input.sk-toggleable__control:checked~div.sk-toggleable__content {max-height: 200px;max-width: 100%;overflow: auto;}#sk-container-id-1 input.sk-toggleable__control:checked~label.sk-toggleable__label-arrow:before {content: \"▾\";}#sk-container-id-1 div.sk-estimator input.sk-toggleable__control:checked~label.sk-toggleable__label {background-color: #d4ebff;}#sk-container-id-1 div.sk-label input.sk-toggleable__control:checked~label.sk-toggleable__label {background-color: #d4ebff;}#sk-container-id-1 input.sk-hidden--visually {border: 0;clip: rect(1px 1px 1px 1px);clip: rect(1px, 1px, 1px, 1px);height: 1px;margin: -1px;overflow: hidden;padding: 0;position: absolute;width: 1px;}#sk-container-id-1 div.sk-estimator {font-family: monospace;background-color: #f0f8ff;border: 1px dotted black;border-radius: 0.25em;box-sizing: border-box;margin-bottom: 0.5em;}#sk-container-id-1 div.sk-estimator:hover {background-color: #d4ebff;}#sk-container-id-1 div.sk-parallel-item::after {content: \"\";width: 100%;border-bottom: 1px solid gray;flex-grow: 1;}#sk-container-id-1 div.sk-label:hover label.sk-toggleable__label {background-color: #d4ebff;}#sk-container-id-1 div.sk-serial::before {content: \"\";position: absolute;border-left: 1px solid gray;box-sizing: border-box;top: 0;bottom: 0;left: 50%;z-index: 0;}#sk-container-id-1 div.sk-serial {display: flex;flex-direction: column;align-items: center;background-color: white;padding-right: 0.2em;padding-left: 0.2em;position: relative;}#sk-container-id-1 div.sk-item {position: relative;z-index: 1;}#sk-container-id-1 div.sk-parallel {display: flex;align-items: stretch;justify-content: center;background-color: white;position: relative;}#sk-container-id-1 div.sk-item::before, #sk-container-id-1 div.sk-parallel-item::before {content: \"\";position: absolute;border-left: 1px solid gray;box-sizing: border-box;top: 0;bottom: 0;left: 50%;z-index: -1;}#sk-container-id-1 div.sk-parallel-item {display: flex;flex-direction: column;z-index: 1;position: relative;background-color: white;}#sk-container-id-1 div.sk-parallel-item:first-child::after {align-self: flex-end;width: 50%;}#sk-container-id-1 div.sk-parallel-item:last-child::after {align-self: flex-start;width: 50%;}#sk-container-id-1 div.sk-parallel-item:only-child::after {width: 0;}#sk-container-id-1 div.sk-dashed-wrapped {border: 1px dashed gray;margin: 0 0.4em 0.5em 0.4em;box-sizing: border-box;padding-bottom: 0.4em;background-color: white;}#sk-container-id-1 div.sk-label label {font-family: monospace;font-weight: bold;display: inline-block;line-height: 1.2em;}#sk-container-id-1 div.sk-label-container {text-align: center;}#sk-container-id-1 div.sk-container {/* jupyter's `normalize.less` sets `[hidden] { display: none; }` but bootstrap.min.css set `[hidden] { display: none !important; }` so we also need the `!important` here to be able to override the default hidden behavior on the sphinx rendered scikit-learn.org. See: https://github.com/scikit-learn/scikit-learn/issues/21755 */display: inline-block !important;position: relative;}#sk-container-id-1 div.sk-text-repr-fallback {display: none;}</style><div id=\"sk-container-id-1\" class=\"sk-top-container\"><div class=\"sk-text-repr-fallback\"><pre>LogisticRegression(C=0.05, multi_class=&#x27;ovr&#x27;, random_state=0)</pre><b>In a Jupyter environment, please rerun this cell to show the HTML representation or trust the notebook. <br />On GitHub, the HTML representation is unable to render, please try loading this page with nbviewer.org.</b></div><div class=\"sk-container\" hidden><div class=\"sk-item\"><div class=\"sk-estimator sk-toggleable\"><input class=\"sk-toggleable__control sk-hidden--visually\" id=\"sk-estimator-id-1\" type=\"checkbox\" checked><label for=\"sk-estimator-id-1\" class=\"sk-toggleable__label sk-toggleable__label-arrow\">LogisticRegression</label><div class=\"sk-toggleable__content\"><pre>LogisticRegression(C=0.05, multi_class=&#x27;ovr&#x27;, random_state=0)</pre></div></div></div></div></div>"
            ]
          },
          "metadata": {},
          "execution_count": 28
        }
      ]
    },
    {
      "cell_type": "markdown",
      "source": [
        "The algorithm is called \"logistic regression\" because it uses a logistic function to model the probability of the target variable.\n",
        "\n",
        "1) C=0.05: the inverse of the regularization strength. A smaller value of C indicates stronger regularization, which can help prevent overfitting. The default value is C=1.0.\n",
        "\n",
        "2) multi_class='ovr': the strategy used to handle multi-class classification problems. The options are 'ovr' (one-vs-rest) and 'multinomial' (softmax). 'ovr' is used in this case, which trains a separate binary classification model for each class, and selects the class with the highest probability as the predicted class.\n",
        "\n",
        "3) random_state=0: the seed used by the random number generator. This is used to ensure that the results are reproducible."
      ],
      "metadata": {
        "id": "j1kP3O4MeOH6"
      }
    },
    {
      "cell_type": "code",
      "source": [
        "X_test = scaler.transform(X_test)\n",
        "y_prediction=model.predict(X_test)"
      ],
      "metadata": {
        "id": "gDpvbcqLfC1I"
      },
      "execution_count": 35,
      "outputs": []
    },
    {
      "cell_type": "code",
      "source": [
        "#The score method returns the mean accuracy on the given test data and labels. \n",
        "model.score(X_train, y_train)"
      ],
      "metadata": {
        "colab": {
          "base_uri": "https://localhost:8080/"
        },
        "id": "UZ8wzvXjhB6_",
        "outputId": "70918c17-d0e6-4ec3-d88d-86a89d54ebc3"
      },
      "execution_count": 39,
      "outputs": [
        {
          "output_type": "execute_result",
          "data": {
            "text/plain": [
              "0.9693877551020408"
            ]
          },
          "metadata": {},
          "execution_count": 39
        }
      ]
    },
    {
      "cell_type": "code",
      "source": [
        "model.score(X_test,y_test)"
      ],
      "metadata": {
        "colab": {
          "base_uri": "https://localhost:8080/"
        },
        "id": "B5jll-1-hyES",
        "outputId": "469304d0-b6b6-4449-c805-eaeb9971cea0"
      },
      "execution_count": 40,
      "outputs": [
        {
          "output_type": "execute_result",
          "data": {
            "text/plain": [
              "0.12239221140472879"
            ]
          },
          "metadata": {},
          "execution_count": 40
        }
      ]
    },
    {
      "cell_type": "code",
      "source": [
        "confusion_matrix(y_test,y_prediction)"
      ],
      "metadata": {
        "colab": {
          "base_uri": "https://localhost:8080/"
        },
        "id": "LO35rO1PiDyr",
        "outputId": "9e30639b-e4b8-4d50-b222-fdbe935d9c70"
      },
      "execution_count": 43,
      "outputs": [
        {
          "output_type": "execute_result",
          "data": {
            "text/plain": [
              "array([[ 0,  0,  0,  0, 74,  0,  0,  0,  0,  0],\n",
              "       [ 0,  0,  1,  0, 67,  0,  0,  0,  0,  0],\n",
              "       [ 0,  0,  0,  0, 67,  0,  0,  0,  1,  0],\n",
              "       [ 0,  0,  0,  1, 82,  0,  0,  0,  0,  0],\n",
              "       [ 0,  0,  0,  0, 79,  0,  0,  0,  0,  0],\n",
              "       [ 0,  0,  0,  0, 63,  2,  0,  0,  0,  0],\n",
              "       [ 0,  0,  0,  0, 68,  0,  2,  0,  0,  0],\n",
              "       [ 0,  0,  0,  0, 71,  0,  0,  3,  0,  0],\n",
              "       [ 0,  0,  0,  1, 60,  0,  0,  0,  1,  0],\n",
              "       [ 0,  0,  0,  0, 75,  0,  1,  0,  0,  0]])"
            ]
          },
          "metadata": {},
          "execution_count": 43
        }
      ]
    },
    {
      "cell_type": "code",
      "source": [
        "print(classification_report(y_test,y_prediction))"
      ],
      "metadata": {
        "colab": {
          "base_uri": "https://localhost:8080/"
        },
        "id": "tUz56QrHiikP",
        "outputId": "08724df1-ea5e-4c25-f7f2-931c59ea96a1"
      },
      "execution_count": 45,
      "outputs": [
        {
          "output_type": "stream",
          "name": "stdout",
          "text": [
            "              precision    recall  f1-score   support\n",
            "\n",
            "           0       0.00      0.00      0.00        74\n",
            "           1       0.00      0.00      0.00        68\n",
            "           2       0.00      0.00      0.00        68\n",
            "           3       0.50      0.01      0.02        83\n",
            "           4       0.11      1.00      0.20        79\n",
            "           5       1.00      0.03      0.06        65\n",
            "           6       0.67      0.03      0.05        70\n",
            "           7       1.00      0.04      0.08        74\n",
            "           8       0.50      0.02      0.03        62\n",
            "           9       0.00      0.00      0.00        76\n",
            "\n",
            "    accuracy                           0.12       719\n",
            "   macro avg       0.38      0.11      0.04       719\n",
            "weighted avg       0.37      0.12      0.05       719\n",
            "\n"
          ]
        },
        {
          "output_type": "stream",
          "name": "stderr",
          "text": [
            "/usr/local/lib/python3.10/dist-packages/sklearn/metrics/_classification.py:1344: UndefinedMetricWarning: Precision and F-score are ill-defined and being set to 0.0 in labels with no predicted samples. Use `zero_division` parameter to control this behavior.\n",
            "  _warn_prf(average, modifier, msg_start, len(result))\n",
            "/usr/local/lib/python3.10/dist-packages/sklearn/metrics/_classification.py:1344: UndefinedMetricWarning: Precision and F-score are ill-defined and being set to 0.0 in labels with no predicted samples. Use `zero_division` parameter to control this behavior.\n",
            "  _warn_prf(average, modifier, msg_start, len(result))\n",
            "/usr/local/lib/python3.10/dist-packages/sklearn/metrics/_classification.py:1344: UndefinedMetricWarning: Precision and F-score are ill-defined and being set to 0.0 in labels with no predicted samples. Use `zero_division` parameter to control this behavior.\n",
            "  _warn_prf(average, modifier, msg_start, len(result))\n"
          ]
        }
      ]
    },
    {
      "cell_type": "code",
      "source": [
        "classification_report(y_test,y_prediction)"
      ],
      "metadata": {
        "colab": {
          "base_uri": "https://localhost:8080/",
          "height": 225
        },
        "id": "jeWFXWkqiuY1",
        "outputId": "61bc0073-ab1a-4b30-fc7a-f414c3c1caa6"
      },
      "execution_count": 46,
      "outputs": [
        {
          "output_type": "stream",
          "name": "stderr",
          "text": [
            "/usr/local/lib/python3.10/dist-packages/sklearn/metrics/_classification.py:1344: UndefinedMetricWarning: Precision and F-score are ill-defined and being set to 0.0 in labels with no predicted samples. Use `zero_division` parameter to control this behavior.\n",
            "  _warn_prf(average, modifier, msg_start, len(result))\n",
            "/usr/local/lib/python3.10/dist-packages/sklearn/metrics/_classification.py:1344: UndefinedMetricWarning: Precision and F-score are ill-defined and being set to 0.0 in labels with no predicted samples. Use `zero_division` parameter to control this behavior.\n",
            "  _warn_prf(average, modifier, msg_start, len(result))\n",
            "/usr/local/lib/python3.10/dist-packages/sklearn/metrics/_classification.py:1344: UndefinedMetricWarning: Precision and F-score are ill-defined and being set to 0.0 in labels with no predicted samples. Use `zero_division` parameter to control this behavior.\n",
            "  _warn_prf(average, modifier, msg_start, len(result))\n"
          ]
        },
        {
          "output_type": "execute_result",
          "data": {
            "text/plain": [
              "'              precision    recall  f1-score   support\\n\\n           0       0.00      0.00      0.00        74\\n           1       0.00      0.00      0.00        68\\n           2       0.00      0.00      0.00        68\\n           3       0.50      0.01      0.02        83\\n           4       0.11      1.00      0.20        79\\n           5       1.00      0.03      0.06        65\\n           6       0.67      0.03      0.05        70\\n           7       1.00      0.04      0.08        74\\n           8       0.50      0.02      0.03        62\\n           9       0.00      0.00      0.00        76\\n\\n    accuracy                           0.12       719\\n   macro avg       0.38      0.11      0.04       719\\nweighted avg       0.37      0.12      0.05       719\\n'"
            ],
            "application/vnd.google.colaboratory.intrinsic+json": {
              "type": "string"
            }
          },
          "metadata": {},
          "execution_count": 46
        }
      ]
    },
    {
      "cell_type": "code",
      "source": [],
      "metadata": {
        "id": "fxSX32_xi5tV"
      },
      "execution_count": null,
      "outputs": []
    }
  ]
}